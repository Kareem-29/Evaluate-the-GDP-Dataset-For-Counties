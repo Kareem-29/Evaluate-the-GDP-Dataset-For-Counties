{
 "cells": [
  {
   "cell_type": "markdown",
   "metadata": {},
   "source": [
    "#### 1: View and add the dataset"
   ]
  },
  {
   "cell_type": "code",
   "execution_count": 1,
   "metadata": {},
   "outputs": [],
   "source": [
    "#Import required library\n",
    "import numpy as np"
   ]
  },
  {
   "cell_type": "code",
   "execution_count": 2,
   "metadata": {},
   "outputs": [],
   "source": [
    "#Manually add the dataset\n",
    "List_of_countries = np.array(['Algeria','Angola','Argentina','Australia','Austria','Bahamas','Bangladesh','Belarus','Belgium','Bhutan','Brazil','Bulgaria',\n",
    "                              'Cambodia','Cameroon','Chile','China','Colombia','Cyprus','Denmark','El Salvador','Estonia','Ethiopia','Fiji','Finland',\n",
    "                              'France','Georgia','Ghana','Grenada','Guinea','Haiti','Honduras','Hungary','India','Indonesia','Ireland','Italy','Japan',\n",
    "                              'Kenya', 'South Korea','Liberia','Malaysia','Mexico', 'Morocco','Nepal','New Zealand','Norway','Pakistan', 'Peru','Qatar',\n",
    "                              'Russia','Singapore','South Africa','Spain','Sweden','Switzerland','Thailand', 'United Arab Emirates','United Kingdom',\n",
    "                              'United States','Uruguay','Venezuela','Vietnam','Zimbabwe'])\n",
    "\n",
    "GDP_values_for_each_country = np.array([2255.225482,629.9553062,11601.63022,25306.82494,27266.40335,\n",
    "                                        19466.99052,588.3691778,2890.345675,24733.62696,1445.760002,4803.398244,\n",
    "                                        2618.876037,590.4521124,665.7982328,7122.938458,2639.54156,3362.4656,\n",
    "                                        15378.16704,30860.12808,2579.115607,6525.541272,229.6769525,2242.689259,\n",
    "                                        27570.4852,23016.84778,1334.646773,402.6953275,6047.200797,394.1156638,\n",
    "                                        385.5793827,1414.072488,5745.981529,837.7464011,1206.991065,27715.52837,\n",
    "                                        18937.24998,39578.07441,478.2194906,16684.21278,279.2204061,5345.213415,\n",
    "                                        6288.25324,1908.304416,274.8728621,14646.42094,40034.85063,672.1547506,\n",
    "                                        3359.517402,36152.66676,3054.727742,33529.83052,3825.093781,15428.32098,\n",
    "                                        33630.24604,39170.41371,2699.123242,21058.43643,28272.40661,37691.02733,\n",
    "                                        9581.05659,5671.912202,757.4009286,347.7456605])"
   ]
  },
  {
   "cell_type": "markdown",
   "metadata": {
    "collapsed": true
   },
   "source": [
    "#### 2: Find and print the name of the country with the highest GDP"
   ]
  },
  {
   "cell_type": "code",
   "execution_count": 3,
   "metadata": {},
   "outputs": [],
   "source": [
    "#Use the argmax() method to find the highest GDP\n",
    "max_gpd = GDP_values_for_each_country.argmax()"
   ]
  },
  {
   "cell_type": "code",
   "execution_count": 5,
   "metadata": {},
   "outputs": [
    {
     "data": {
      "text/plain": [
       "'Norway'"
      ]
     },
     "execution_count": 5,
     "metadata": {},
     "output_type": "execute_result"
    }
   ],
   "source": [
    "#Print the name of the country\n",
    "country_with_max_gpd = List_of_countries[max_gpd]\n",
    "country_with_max_gpd"
   ]
  },
  {
   "cell_type": "markdown",
   "metadata": {},
   "source": [
    "#### 3: Find and print the name of the country with the lowest GDP"
   ]
  },
  {
   "cell_type": "code",
   "execution_count": 6,
   "metadata": {},
   "outputs": [],
   "source": [
    "#Use the argmin() method to find the lowest GDP\n",
    "min_gpd= GDP_values_for_each_country.argmin()"
   ]
  },
  {
   "cell_type": "code",
   "execution_count": 9,
   "metadata": {},
   "outputs": [
    {
     "data": {
      "text/plain": [
       "'Ethiopia'"
      ]
     },
     "execution_count": 9,
     "metadata": {},
     "output_type": "execute_result"
    }
   ],
   "source": [
    "#Print the name of the country\n",
    "country_with_min_gpd = List_of_countries[min_gpd]\n",
    "country_with_min_gpd"
   ]
  },
  {
   "cell_type": "markdown",
   "metadata": {},
   "source": [
    "#### 4: Print out text ('evaluating country') and input value ('country name') iteratively"
   ]
  },
  {
   "cell_type": "code",
   "execution_count": 11,
   "metadata": {},
   "outputs": [
    {
     "name": "stdout",
     "output_type": "stream",
     "text": [
      "evaluating country Algeria\n",
      "evaluating country Angola\n",
      "evaluating country Argentina\n",
      "evaluating country Australia\n",
      "evaluating country Austria\n",
      "evaluating country Bahamas\n",
      "evaluating country Bangladesh\n",
      "evaluating country Belarus\n",
      "evaluating country Belgium\n",
      "evaluating country Bhutan\n",
      "evaluating country Brazil\n",
      "evaluating country Bulgaria\n",
      "evaluating country Cambodia\n",
      "evaluating country Cameroon\n",
      "evaluating country Chile\n",
      "evaluating country China\n",
      "evaluating country Colombia\n",
      "evaluating country Cyprus\n",
      "evaluating country Denmark\n",
      "evaluating country El Salvador\n",
      "evaluating country Estonia\n",
      "evaluating country Ethiopia\n",
      "evaluating country Fiji\n",
      "evaluating country Finland\n",
      "evaluating country France\n",
      "evaluating country Georgia\n",
      "evaluating country Ghana\n",
      "evaluating country Grenada\n",
      "evaluating country Guinea\n",
      "evaluating country Haiti\n",
      "evaluating country Honduras\n",
      "evaluating country Hungary\n",
      "evaluating country India\n",
      "evaluating country Indonesia\n",
      "evaluating country Ireland\n",
      "evaluating country Italy\n",
      "evaluating country Japan\n",
      "evaluating country Kenya\n",
      "evaluating country South Korea\n",
      "evaluating country Liberia\n",
      "evaluating country Malaysia\n",
      "evaluating country Mexico\n",
      "evaluating country Morocco\n",
      "evaluating country Nepal\n",
      "evaluating country New Zealand\n",
      "evaluating country Norway\n",
      "evaluating country Pakistan\n",
      "evaluating country Peru\n",
      "evaluating country Qatar\n",
      "evaluating country Russia\n",
      "evaluating country Singapore\n",
      "evaluating country South Africa\n",
      "evaluating country Spain\n",
      "evaluating country Sweden\n",
      "evaluating country Switzerland\n",
      "evaluating country Thailand\n",
      "evaluating country United Arab Emirates\n",
      "evaluating country United Kingdom\n",
      "evaluating country United States\n",
      "evaluating country Uruguay\n",
      "evaluating country Venezuela\n",
      "evaluating country Vietnam\n",
      "evaluating country Zimbabwe\n"
     ]
    }
   ],
   "source": [
    "#Use a for loop to print the required output\n",
    "for country in List_of_countries:\n",
    "    print(\"evaluating country {}\".format(country))"
   ]
  },
  {
   "cell_type": "markdown",
   "metadata": {},
   "source": [
    "#### 5: Print out the entire list of the countries with their GDPs"
   ]
  },
  {
   "cell_type": "code",
   "execution_count": 19,
   "metadata": {},
   "outputs": [
    {
     "name": "stdout",
     "output_type": "stream",
     "text": [
      "Country: Algeria --- gpa: 2255.225482 \n",
      "Country: Angola --- gpa: 629.9553062 \n",
      "Country: Argentina --- gpa: 11601.63022 \n",
      "Country: Australia --- gpa: 25306.82494 \n",
      "Country: Austria --- gpa: 27266.40335 \n",
      "Country: Bahamas --- gpa: 19466.99052 \n",
      "Country: Bangladesh --- gpa: 588.3691778 \n",
      "Country: Belarus --- gpa: 2890.345675 \n",
      "Country: Belgium --- gpa: 24733.62696 \n",
      "Country: Bhutan --- gpa: 1445.760002 \n",
      "Country: Brazil --- gpa: 4803.398244 \n",
      "Country: Bulgaria --- gpa: 2618.876037 \n",
      "Country: Cambodia --- gpa: 590.4521124 \n",
      "Country: Cameroon --- gpa: 665.7982328 \n",
      "Country: Chile --- gpa: 7122.938458 \n",
      "Country: China --- gpa: 2639.54156 \n",
      "Country: Colombia --- gpa: 3362.4656 \n",
      "Country: Cyprus --- gpa: 15378.16704 \n",
      "Country: Denmark --- gpa: 30860.12808 \n",
      "Country: El Salvador --- gpa: 2579.115607 \n",
      "Country: Estonia --- gpa: 6525.541272 \n",
      "Country: Ethiopia --- gpa: 229.6769525 \n",
      "Country: Fiji --- gpa: 2242.689259 \n",
      "Country: Finland --- gpa: 27570.4852 \n",
      "Country: France --- gpa: 23016.84778 \n",
      "Country: Georgia --- gpa: 1334.646773 \n",
      "Country: Ghana --- gpa: 402.6953275 \n",
      "Country: Grenada --- gpa: 6047.200797 \n",
      "Country: Guinea --- gpa: 394.1156638 \n",
      "Country: Haiti --- gpa: 385.5793827 \n",
      "Country: Honduras --- gpa: 1414.072488 \n",
      "Country: Hungary --- gpa: 5745.981529 \n",
      "Country: India --- gpa: 837.7464011 \n",
      "Country: Indonesia --- gpa: 1206.991065 \n",
      "Country: Ireland --- gpa: 27715.52837 \n",
      "Country: Italy --- gpa: 18937.24998 \n",
      "Country: Japan --- gpa: 39578.07441 \n",
      "Country: Kenya --- gpa: 478.2194906 \n",
      "Country: South Korea --- gpa: 16684.21278 \n",
      "Country: Liberia --- gpa: 279.2204061 \n",
      "Country: Malaysia --- gpa: 5345.213415 \n",
      "Country: Mexico --- gpa: 6288.25324 \n",
      "Country: Morocco --- gpa: 1908.304416 \n",
      "Country: Nepal --- gpa: 274.8728621 \n",
      "Country: New Zealand --- gpa: 14646.42094 \n",
      "Country: Norway --- gpa: 40034.85063 \n",
      "Country: Pakistan --- gpa: 672.1547506 \n",
      "Country: Peru --- gpa: 3359.517402 \n",
      "Country: Qatar --- gpa: 36152.66676 \n",
      "Country: Russia --- gpa: 3054.727742 \n",
      "Country: Singapore --- gpa: 33529.83052 \n",
      "Country: South Africa --- gpa: 3825.093781 \n",
      "Country: Spain --- gpa: 15428.32098 \n",
      "Country: Sweden --- gpa: 33630.24604 \n",
      "Country: Switzerland --- gpa: 39170.41371 \n",
      "Country: Thailand --- gpa: 2699.123242 \n",
      "Country: United Arab Emirates --- gpa: 21058.43643 \n",
      "Country: United Kingdom --- gpa: 28272.40661 \n",
      "Country: United States --- gpa: 37691.02733 \n",
      "Country: Uruguay --- gpa: 9581.05659 \n",
      "Country: Venezuela --- gpa: 5671.912202 \n",
      "Country: Vietnam --- gpa: 757.4009286 \n",
      "Country: Zimbabwe --- gpa: 347.7456605 \n"
     ]
    }
   ],
   "source": [
    "#Use a for loop to print the required list\n",
    "for i in range(len(List_of_countries)):\n",
    "    country = List_of_countries[i]\n",
    "    country_gpd = GDP_values_for_each_country[i]\n",
    "    print(\"Country: {} --- gpa: {} \".format(country, country_gpd))"
   ]
  },
  {
   "cell_type": "markdown",
   "metadata": {},
   "source": [
    "#### 6: Print the following:\n",
    "1. Highest GPD value\n",
    "2. Lowest GDP value\n",
    "3. Mean GDP value\n",
    "4. Standardized GDP value\n",
    "5. Sum of all the GDPs"
   ]
  },
  {
   "cell_type": "code",
   "execution_count": 20,
   "metadata": {},
   "outputs": [
    {
     "name": "stdout",
     "output_type": "stream",
     "text": [
      "40034.85063\n",
      "229.6769525\n",
      "11289.409271639683\n",
      "12743.828910617945\n",
      "711232.7841133\n"
     ]
    }
   ],
   "source": [
    "print(GDP_values_for_each_country.max())\n",
    "print(GDP_values_for_each_country.min())\n",
    "print(GDP_values_for_each_country.mean())\n",
    "print(GDP_values_for_each_country.std())\n",
    "print(GDP_values_for_each_country.sum())"
   ]
  },
  {
   "cell_type": "code",
   "execution_count": null,
   "metadata": {},
   "outputs": [],
   "source": []
  }
 ],
 "metadata": {
  "kernelspec": {
   "display_name": "Python 3",
   "language": "python",
   "name": "python3"
  },
  "language_info": {
   "codemirror_mode": {
    "name": "ipython",
    "version": 3
   },
   "file_extension": ".py",
   "mimetype": "text/x-python",
   "name": "python",
   "nbconvert_exporter": "python",
   "pygments_lexer": "ipython3",
   "version": "3.8.8"
  }
 },
 "nbformat": 4,
 "nbformat_minor": 1
}
